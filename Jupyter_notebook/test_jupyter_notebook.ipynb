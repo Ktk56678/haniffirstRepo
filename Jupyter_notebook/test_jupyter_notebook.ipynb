{
 "cells": [
  {
   "cell_type": "markdown",
   "id": "f5843ff2",
   "metadata": {},
   "source": [
    "# python ka chilla with baba ammar\n",
    "## how to use Jubyter Note book\n",
    "### Basics of Python\n",
    "\n",
    "\n",
    "### **01- My first program**"
   ]
  },
  {
   "cell_type": "code",
   "execution_count": 1,
   "id": "ea113ebb",
   "metadata": {
    "scrolled": true
   },
   "outputs": [
    {
     "name": "stdout",
     "output_type": "stream",
     "text": [
      "5\n",
      "Hello Word\n",
      "We are learning python with ammar\n"
     ]
    }
   ],
   "source": [
    "###My _program_ in python\n",
    "print(2+3)\n",
    "print(\"Hello Word\")\n",
    "print(\"We are learning python with ammar\")"
   ]
  },
  {
   "cell_type": "markdown",
   "id": "092f02f5",
   "metadata": {},
   "source": [
    " ### **02-operaters**"
   ]
  },
  {
   "cell_type": "code",
   "execution_count": 2,
   "id": "744b2c3b",
   "metadata": {},
   "outputs": [
    {
     "name": "stdout",
     "output_type": "stream",
     "text": [
      "5\n",
      "0\n",
      "3.0\n",
      "3\n",
      "36\n",
      "1\n",
      "512\n",
      "14\n",
      "7\n",
      "1.8\n",
      "56\n",
      "1\n",
      "12.125\n"
     ]
    }
   ],
   "source": [
    "print(2+3)\n",
    "print(3-3)\n",
    "print(6/2)\n",
    "print(6//2)\n",
    "print(9*4)\n",
    "print(13%2)\n",
    "print(2**9)\n",
    "print(9+5)\n",
    "print(16-9)\n",
    "print(9/5)\n",
    "print(8*7)\n",
    "print(7//6)\n",
    "print(3**4/8*3/3+6-4)"
   ]
  },
  {
   "cell_type": "markdown",
   "id": "26f4d2e7",
   "metadata": {},
   "source": [
    "*PEMDAS\n",
    "Paranthesis Exponents Multiplication Division Addition Substraction\n",
    "left to right for M & D and A & S*"
   ]
  },
  {
   "cell_type": "markdown",
   "id": "15428124",
   "metadata": {},
   "source": [
    " ### **03-strings**"
   ]
  },
  {
   "cell_type": "code",
   "execution_count": 4,
   "id": "f2c7b632",
   "metadata": {
    "scrolled": true
   },
   "outputs": [
    {
     "name": "stdout",
     "output_type": "stream",
     "text": [
      "Hello Word\n",
      "We are learning python with ammar\n",
      "hello word\n",
      "python with ammar\n"
     ]
    }
   ],
   "source": [
    "print(\"Hello Word\")\n",
    "print(\"We are learning python with ammar\")\n",
    "' '\n",
    "\" \"\n",
    "''' '''\n",
    "print('hello word')\n",
    "print(\"python with ammar\")"
   ]
  },
  {
   "cell_type": "markdown",
   "id": "791746b7",
   "metadata": {},
   "source": [
    " ### **04-comments**\n",
    " The short cut for comments is **crtl+/**"
   ]
  },
  {
   "cell_type": "code",
   "execution_count": 5,
   "id": "33f0b263",
   "metadata": {},
   "outputs": [
    {
     "name": "stdout",
     "output_type": "stream",
     "text": [
      "how are you?\n",
      "we are learning python with ammar\n",
      "8\n"
     ]
    }
   ],
   "source": [
    "print(\"how are you?\")   #press these to comment oy crtl+/\n",
    "print(\"we are learning python with ammar\") # print a string\n",
    "print(2+6)  #print operators function with numbers"
   ]
  },
  {
   "cell_type": "markdown",
   "id": "bad6ba58",
   "metadata": {},
   "source": [
    " ### **05-Variables**"
   ]
  },
  {
   "cell_type": "code",
   "execution_count": 6,
   "id": "1ceaa9da",
   "metadata": {},
   "outputs": [
    {
     "name": "stdout",
     "output_type": "stream",
     "text": [
      "5\n",
      "we are learning python with ammar\n",
      "15\n",
      "<class 'int'>\n",
      "<class 'str'>\n",
      "Mangoes, Oranges\n",
      "8\n",
      "<class 'int'>\n",
      "<class 'str'>\n"
     ]
    }
   ],
   "source": [
    "# variables: objects containing specific values\n",
    "x = 5  ### numeric/integer\n",
    "print(x)\n",
    "\n",
    "y=\"we are learning python with ammar\"  ### string variable\n",
    "print(y)\n",
    "\n",
    "x= x+10\n",
    "print(x)\n",
    "\n",
    "\n",
    "# ##types of variables\n",
    "type(x)\n",
    "print(type(x))\n",
    "\n",
    "print(type(y))\n",
    "\n",
    "\n",
    "###print type class\n",
    "\n",
    "# Rules to assign a variable\n",
    "# 1- The variable should contain letters, numbers or underscores\n",
    "# 2- Do not start with numbers\n",
    "# 3- Spaces are not allowed\n",
    "# 4- Do not use Key words (used in python such as mean, class, media, test)\n",
    "# 5- name variable Short and descriptive\n",
    "# 6- Cas sensitivity (Lowercase, uppercase, lower letter case)\n",
    "\n",
    "\n",
    "fruit_basket=\"Mangoes, Oranges\"  \n",
    "print(fruit_basket)\n",
    "\n",
    "fruit_basket=8\n",
    "print(fruit_basket)\n",
    "\n",
    "fruit_basket=8\n",
    "print(type(fruit_basket))\n",
    "\n",
    "fruit_basket= \"Mangos\"\n",
    "print(type(fruit_basket))"
   ]
  },
  {
   "cell_type": "markdown",
   "id": "3ebc4576",
   "metadata": {},
   "source": [
    " ### **06-input_Variables**"
   ]
  },
  {
   "cell_type": "code",
   "execution_count": 7,
   "id": "ec26e70d",
   "metadata": {
    "scrolled": true
   },
   "outputs": [
    {
     "name": "stdout",
     "output_type": "stream",
     "text": [
      "Mangoes\n",
      "What is your favourite fruit? Apple\n",
      "Apple\n",
      "What is your name? Hammad\n",
      "Hello! Hammad\n",
      "What is your name? Hanif\n",
      "Hello! Hanif\n",
      "what is your name? Yasir\n",
      "how old are you? 18\n",
      "Hello! Yasir , you are still young\n"
     ]
    }
   ],
   "source": [
    "fruit_basket= \"Mangoes\"\n",
    "print(fruit_basket)\n",
    "\n",
    "\n",
    "##input_function\n",
    "fruit_basket=input(\"What is your favourite fruit? \")\n",
    "print(fruit_basket)\n",
    "\n",
    "####input function of second stage\n",
    "name= input(\"What is your name? \")\n",
    "greetings= \"Hello!\"\n",
    "print(greetings, name)\n",
    "\n",
    "\n",
    "# another way of stage 2 function\n",
    "name= input(\"What is your name? \")\n",
    "\n",
    "print(\"Hello!\", name)\n",
    "\n",
    "#3rd stage of input function\n",
    "name= input(\"what is your name? \")\n",
    "age= input(\"how old are you? \")\n",
    "greetings= \"Hello!\"\n",
    "\n",
    "print(greetings, name, \", you are still young\")"
   ]
  },
  {
   "cell_type": "markdown",
   "id": "bb91cddc",
   "metadata": {},
   "source": [
    "### **07-Conditional_logics**"
   ]
  },
  {
   "cell_type": "code",
   "execution_count": 8,
   "id": "6a471f17",
   "metadata": {},
   "outputs": [
    {
     "name": "stdout",
     "output_type": "stream",
     "text": [
      "True\n",
      "False\n",
      "True\n",
      "False\n",
      "True\n",
      "True\n",
      "False\n",
      "How old is Hammad? 5\n",
      "<class 'int'>\n",
      "True\n"
     ]
    }
   ],
   "source": [
    "# logical operaters are either \"true or false\" or \"yes or no\" or \"0 or 1\"\n",
    "# equal to                  ==\n",
    "# equal to                  !=\n",
    "# less than                  <\n",
    "# greater than               >\n",
    "# less than and equal to     <=\n",
    "# greater than and equal to  >=\n",
    "\n",
    "# is 4 equal to 4\n",
    "\n",
    "print(4==4) \n",
    "print(4!=4)\n",
    "print(4>3) \n",
    "print(3>6)\n",
    "print(3<=5)\n",
    "print(5>=3)\n",
    "\n",
    " ## applicvations of logical operators\n",
    "hammad_age=4\n",
    "age_at_school=5\n",
    "print(hammad_age==age_at_school)\n",
    "\n",
    "##input operators and logicals\n",
    "age_at_school=5\n",
    "hammad_age= input(\"How old is Hammad? \")  # input function\n",
    "hammad_age=int(hammad_age)\n",
    "print(type(hammad_age))\n",
    "print(hammad_age==age_at_school)"
   ]
  },
  {
   "cell_type": "markdown",
   "id": "351e5661",
   "metadata": {},
   "source": [
    "### **08-type_conversions**"
   ]
  },
  {
   "cell_type": "code",
   "execution_count": 9,
   "id": "9021d9b7",
   "metadata": {},
   "outputs": [
    {
     "name": "stdout",
     "output_type": "stream",
     "text": [
      "10.4  Type of x is  <class 'float'>\n",
      "<class 'float'>\n",
      "what is your age? 18\n",
      "<class 'float'>\n",
      "what is your age? 30\n",
      "<class 'str'>\n",
      "what is your name? 90\n",
      "90 <class 'str'>\n"
     ]
    }
   ],
   "source": [
    "x = 10.4                  # integer\n",
    "y = 10                   #float\n",
    "z = \"Great\"             #string\n",
    "\n",
    "\n",
    "\n",
    "#implicit type of conversion\n",
    "y=x+y\n",
    "print(x, \" Type of x is \", type(x))\n",
    "\n",
    "print(type(y))\n",
    "\n",
    "\n",
    "###explicit type of conversion\n",
    "age=input(\"what is your age? \")\n",
    "# age=int(age)\n",
    "print(type(float(age)))\n",
    "\n",
    "\n",
    "age=input(\"what is your age? \")\n",
    "# age=int(age)\n",
    "print(type(str(age)))\n",
    "\n",
    "name=input(\"what is your name? \")\n",
    "# age=int(age)\n",
    "print(name, type(str(name)))"
   ]
  },
  {
   "cell_type": "markdown",
   "id": "71973d8d",
   "metadata": {},
   "source": [
    "### **09-if_else_elif**"
   ]
  },
  {
   "cell_type": "code",
   "execution_count": 10,
   "id": "06b9113a",
   "metadata": {},
   "outputs": [
    {
     "name": "stdout",
     "output_type": "stream",
     "text": [
      "You should take care of Hammad, he is still a baby\n",
      "Hammad can join the school\n"
     ]
    }
   ],
   "source": [
    "required_age_at_school = 5\n",
    "hammad_age = 1\n",
    "\n",
    "# question: can hammad go to school\n",
    "\n",
    "if hammad_age==required_age_at_school:\n",
    "    print(\"Congratulation! Hammad can join the school\")\n",
    "elif hammad_age> required_age_at_school:\n",
    "    print(\"Hammad can join higher secondary school \")\n",
    "elif hammad_age==2:\n",
    "    print(\"You should take care of Hammad, he is still a baby\")\n",
    "elif hammad_age<=2:\n",
    "    print(\"You should take care of Hammad, he is still a baby\")\n",
    "else:\n",
    "    print(\"Hammad can not go to school \")\n",
    "\n",
    "\n",
    "\n",
    "\n",
    "\n",
    "hammad_age = 5\n",
    "required_age_at_school = 5\n",
    "# questuion: Can hammad go to a school\n",
    "\n",
    "\n",
    "if hammad_age==required_age_at_school:\n",
    "    print(\"Hammad can join the school\")\n",
    "    "
   ]
  },
  {
   "cell_type": "markdown",
   "id": "07e71aad",
   "metadata": {},
   "source": [
    "### **10-functions**"
   ]
  },
  {
   "cell_type": "code",
   "execution_count": 13,
   "id": "6ff8eaee",
   "metadata": {},
   "outputs": [
    {
     "name": "stdout",
     "output_type": "stream",
     "text": [
      "I am learning python from baba ammar\n",
      "I am learning python from baba ammar\n",
      "I am learning python from baba ammar\n",
      "I am learning python from baba ammar\n",
      "I am learning python from baba ammar\n",
      "I am learning python from baba ammar\n",
      "I am learning python from baba ammar on youtube channel on my lab computer\n",
      "I am learning python from baba ammar on youtube channel on my lab computer\n",
      "I am learning python from baba ammar on youtube channel on my lab computer\n",
      "I am learning python from baba ammar on youtube channel on my lab computer\n",
      "I am learning python from baba ammar on youtube channel on my lab computer\n",
      "I am learning python from baba ammar on youtube channel on my lab computer\n",
      "Hammad should go to higher school\n",
      "38\n",
      "Congratulation! Hammad can join the school\n",
      "We are learning with Ammar\n",
      "We are learning with Ammar\n",
      "We are learning with Ammar\n",
      "We are learning with Ammar in codonics youtube channel\n",
      "We are learning with Ammar in codonics youtube channel\n",
      "We are learning with Ammar in codonics youtube channel\n",
      "We are learning with Ammar in codonics youtube channel\n",
      "We are learning with Ammar in codonics youtube channel\n",
      "We are learning with Ammar in codonics youtube channel\n",
      "Hammad should go to higher school\n",
      "84\n"
     ]
    }
   ],
   "source": [
    "print(\"I am learning python from baba ammar\")\n",
    "print(\"I am learning python from baba ammar\")\n",
    "print(\"I am learning python from baba ammar\")\n",
    "print(\"I am learning python from baba ammar\")\n",
    "print(\"I am learning python from baba ammar\")\n",
    "print(\"I am learning python from baba ammar\")\n",
    "\n",
    "#defining a functions\n",
    "\n",
    "#1\n",
    "def print_codonics():\n",
    "    print(\"I am learning python from baba ammar\")\n",
    "    print(\"I am learning python from baba ammar\")\n",
    "    print(\"I am learning python from baba ammar\")\n",
    "\n",
    "# print_codonics()\n",
    "\n",
    "# 2\n",
    "def print_codonics():\n",
    "    text = \"I am learning python from baba ammar on youtube channel on my lab computer\"\n",
    "    print(text)\n",
    "    print(text)\n",
    "    print(text)\n",
    "\n",
    "print_codonics()\n",
    "\n",
    "\n",
    "# 3\n",
    "def print_codonics(text):\n",
    "    print(text)\n",
    "    print(text)\n",
    "    print(text)\n",
    "\n",
    "print_codonics(\"I am learning python from baba ammar on youtube channel on my lab computer\")\n",
    "\n",
    "\n",
    "# defining a function with if, elif, else statements\n",
    "def school_calculator(age, text):\n",
    "    if age==5:\n",
    "        print(\"Hammad can join the school\")\n",
    "    elif age>5:\n",
    "        print(\"Hammad should go to higher school\")\n",
    "    else:\n",
    "        print(\"Hammad is still a baby\")\n",
    "    \n",
    "school_calculator(15,\"Hammad\")\n",
    "def school_calculator(age):\n",
    "    if age==5:\n",
    "        print(\"Hammad can join the school\")\n",
    "    elif age>5:\n",
    "        print(\"Hammad should go to higher school\")\n",
    "    else:\n",
    "        print(\"Hammad is still a baby\")\n",
    "    \n",
    "# defining a function of future\n",
    "def future_age(age):\n",
    "    new_age=age+20\n",
    "    return new_age\n",
    "    print(new_age)\n",
    "\n",
    "future_predicted_age=future_age(18)\n",
    "print(future_predicted_age)\n",
    "\n",
    "if hammad_age==required_age_at_school:\n",
    "    print(\"Congratulation! Hammad can join the school\")\n",
    "elif hammad_age> required_age_at_school:\n",
    "    print(\"Hammad can join higher secondary school \")\n",
    "elif hammad_age==2:\n",
    "    print(\"You should take care of Hammad, he is still a baby\")\n",
    "elif hammad_age<=2:\n",
    "    print(\"You should take care of Hammad, he is still a baby\")\n",
    "else:\n",
    "    print(\"Hammad can not go to school \")\n",
    "\n",
    "#defining a functions \n",
    "\n",
    "def print_codonics():\n",
    "    print(\"We are learning with Ammar\")\n",
    "    print(\"We are learning with Ammar\")\n",
    "    print(\"We are learning with Ammar\")\n",
    "\n",
    "print_codonics()\n",
    "\n",
    "def print_codonics():\n",
    "    text = \"We are learning with Ammar in codonics youtube channel\"\n",
    "    print(text)\n",
    "    print(text)\n",
    "    print(text)\n",
    "\n",
    "print_codonics()\n",
    "\n",
    "\n",
    "\n",
    "#3\n",
    "def print_codonics(text):\n",
    "    print(text)\n",
    "    print(text)\n",
    "    print(text)\n",
    "\n",
    "print_codonics(\"We are learning with Ammar in codonics youtube channel\")\n",
    "\n",
    "\n",
    "### defining a function with if, elif and else statments\n",
    "\n",
    "\n",
    "def school_calculator(age, text):\n",
    "    if age==5:\n",
    "        print(\"Hammad can join the school\")\n",
    "    elif age>5:\n",
    "        print(\"Hammad should go to higher school\")\n",
    "    else:\n",
    "        print(\"Hammad is still a baby\")\n",
    "\n",
    "school_calculator(16, \"Hammad\")\n",
    "\n",
    "##defining a function of future\n",
    "\n",
    "def future_age(age):\n",
    "    new_age=age+50\n",
    "    return new_age\n",
    "    print(new_age)\n",
    "\n",
    "future_predicted_age=future_age(34)\n",
    "print(future_predicted_age)"
   ]
  },
  {
   "cell_type": "markdown",
   "id": "12b1a867",
   "metadata": {},
   "source": [
    "### **11-loops**"
   ]
  },
  {
   "cell_type": "code",
   "execution_count": 15,
   "id": "bed6a235",
   "metadata": {},
   "outputs": [
    {
     "name": "stdout",
     "output_type": "stream",
     "text": [
      "0\n",
      "1\n",
      "2\n",
      "3\n",
      "4\n",
      "4\n",
      "5\n",
      "6\n",
      "7\n",
      "8\n",
      "9\n",
      "Mom\n",
      "Tus\n",
      "Wed\n",
      "Thes\n",
      "Sat\n",
      "Sun\n"
     ]
    }
   ],
   "source": [
    "## while and for loops\n",
    "\n",
    "# while loops\n",
    "x=0\n",
    "while(x<5):\n",
    "    print(x)\n",
    "    x=x+1\n",
    "\n",
    "## for loop\n",
    "\n",
    "for x in range(4,10):\n",
    "       print(x)\n",
    "\n",
    "\n",
    "\n",
    "## array\n",
    "days = [\"Mom\",\"Tus\",\"Wed\",\"Thes\",\"Fri\",\"Sat\",\"Sun\"]\n",
    "\n",
    "for d in days:\n",
    "    # if (d==\"Fri\"):break ####loops stop\n",
    "    if (d==\"Fri\"):continue # skip d\n",
    "    print(d)"
   ]
  },
  {
   "cell_type": "markdown",
   "id": "11ac74ba",
   "metadata": {},
   "source": [
    "### **12-import_libraries**"
   ]
  },
  {
   "cell_type": "code",
   "execution_count": 16,
   "id": "d778bb05",
   "metadata": {},
   "outputs": [
    {
     "name": "stdout",
     "output_type": "stream",
     "text": [
      "the value of pi is  3.141592653589793\n",
      "300\n"
     ]
    }
   ],
   "source": [
    "# if you want to print value of pi\n",
    "import math\n",
    "print(\"the value of pi is \",math.pi)\n",
    "\n",
    "import statistics\n",
    "\n",
    "x=[150,250,350,450]\n",
    "\n",
    "print(statistics.mean(x))\n",
    "\n",
    "\n",
    "### numpy, pandas etc"
   ]
  },
  {
   "cell_type": "markdown",
   "id": "e5049586",
   "metadata": {},
   "source": [
    "### **13-trouble_shootings**"
   ]
  },
  {
   "cell_type": "code",
   "execution_count": 17,
   "id": "2f30dea9",
   "metadata": {},
   "outputs": [
    {
     "name": "stdout",
     "output_type": "stream",
     "text": [
      "Hello ammar\n"
     ]
    }
   ],
   "source": [
    "# print(we are learning python with ammar) ####syntax error\n",
    "\n",
    "# print(25/0) ###run time error\n",
    "\n",
    "\n",
    "name=\"ammar\"\n",
    "print(\"Hello \"+name)\n",
    "\n",
    "\n",
    "### trouble shooting is easy"
   ]
  }
 ],
 "metadata": {
  "kernelspec": {
   "display_name": "Python 3 (ipykernel)",
   "language": "python",
   "name": "python3"
  },
  "language_info": {
   "codemirror_mode": {
    "name": "ipython",
    "version": 3
   },
   "file_extension": ".py",
   "mimetype": "text/x-python",
   "name": "python",
   "nbconvert_exporter": "python",
   "pygments_lexer": "ipython3",
   "version": "3.9.7"
  }
 },
 "nbformat": 4,
 "nbformat_minor": 5
}
