{
 "cells": [
  {
   "cell_type": "code",
   "execution_count": 1,
   "id": "c2db00e2",
   "metadata": {},
   "outputs": [],
   "source": [
    "# body mass index (BMI)\n",
    "#  input weight\n",
    "#  height\n",
    "#  BMI ( Ask your self)\n",
    "# Weight\n",
    "# calculate BMI\n",
    "# print BMI( My name is hanif, and my BMI is)"
   ]
  },
  {
   "cell_type": "code",
   "execution_count": 2,
   "id": "f15b857c",
   "metadata": {},
   "outputs": [],
   "source": [
    "# weight in kg/height in meter in square"
   ]
  },
  {
   "cell_type": "code",
   "execution_count": null,
   "id": "7a7f4aa5",
   "metadata": {
    "scrolled": true
   },
   "outputs": [],
   "source": [
    "height = input(\"what is your height?\")\n",
    "height"
   ]
  },
  {
   "cell_type": "code",
   "execution_count": null,
   "id": "f4ea7466",
   "metadata": {},
   "outputs": [],
   "source": [
    "type(height)"
   ]
  },
  {
   "cell_type": "code",
   "execution_count": null,
   "id": "73eb2b6b",
   "metadata": {
    "scrolled": true
   },
   "outputs": [],
   "source": [
    "weight = input(\"what is your weight?\")"
   ]
  },
  {
   "cell_type": "code",
   "execution_count": null,
   "id": "71ad4730",
   "metadata": {},
   "outputs": [],
   "source": [
    "type(weight)"
   ]
  },
  {
   "cell_type": "code",
   "execution_count": null,
   "id": "8814b1ae",
   "metadata": {},
   "outputs": [],
   "source": [
    "name = input(\"what is your name?\")"
   ]
  },
  {
   "cell_type": "code",
   "execution_count": null,
   "id": "bd9f37a7",
   "metadata": {
    "scrolled": true
   },
   "outputs": [],
   "source": [
    "BMI = weight/height**2\n",
    "BMI"
   ]
  },
  {
   "cell_type": "code",
   "execution_count": null,
   "id": "bb30edb1",
   "metadata": {
    "scrolled": true
   },
   "outputs": [],
   "source": [
    "#  print(\"My name is name\", and my BMI is )"
   ]
  },
  {
   "cell_type": "code",
   "execution_count": null,
   "id": "08f15823",
   "metadata": {},
   "outputs": [],
   "source": [
    "import sns"
   ]
  },
  {
   "cell_type": "code",
   "execution_count": 3,
   "id": "7e96b040",
   "metadata": {},
   "outputs": [
    {
     "data": {
      "image/png": "[encoded data removed]",
      "text/plain": [
       "<Figure size 432x288 with 1 Axes>"
      ]
     },
     "metadata": {
      "needs_background": "light"
     },
     "output_type": "display_data"
    }
   ],
   "source": [
    "import matplotlib.pyplot as plt\n",
    "\n",
    "x = [24, 25, 26]\n",
    "y = [23, 24, 25]\n",
    "\n",
    "plt.plot(x,y)\n",
    "plt.show()"
   ]
  },
  {
   "cell_type": "code",
   "execution_count": 1,
   "id": "abb9f958",
   "metadata": {},
   "outputs": [],
   "source": [
    "import seaborn as sns"
   ]
  },
  {
   "cell_type": "code",
   "execution_count": 2,
   "id": "9aeb3b6f",
   "metadata": {
    "scrolled": true
   },
   "outputs": [
    {
     "ename": "AttributeError",
     "evalue": "module 'seaborn' has no attribute 'set_themes'",
     "output_type": "error",
     "traceback": [
      "\u001b[1;31m---------------------------------------------------------------------------\u001b[0m",
      "\u001b[1;31mAttributeError\u001b[0m                            Traceback (most recent call last)",
      "\u001b[1;32m~\\AppData\\Local\\Temp/ipykernel_38804/2766166552.py\u001b[0m in \u001b[0;36m<module>\u001b[1;34m\u001b[0m\n\u001b[0;32m      1\u001b[0m \u001b[1;32mimport\u001b[0m \u001b[0mseaborn\u001b[0m \u001b[1;32mas\u001b[0m \u001b[0msns\u001b[0m\u001b[1;33m\u001b[0m\u001b[1;33m\u001b[0m\u001b[0m\n\u001b[0;32m      2\u001b[0m \u001b[1;32mimport\u001b[0m \u001b[0mmatplotlib\u001b[0m\u001b[1;33m.\u001b[0m\u001b[0mpyplot\u001b[0m \u001b[1;32mas\u001b[0m \u001b[0mplt\u001b[0m\u001b[1;33m\u001b[0m\u001b[1;33m\u001b[0m\u001b[0m\n\u001b[1;32m----> 3\u001b[1;33m \u001b[0msns\u001b[0m\u001b[1;33m.\u001b[0m\u001b[0mset_themes\u001b[0m\u001b[1;33m(\u001b[0m\u001b[0mstyles\u001b[0m\u001b[1;33m=\u001b[0m\u001b[1;34m\"ticks\"\u001b[0m\u001b[1;33m,\u001b[0m \u001b[0mcolor_code\u001b[0m\u001b[1;33m=\u001b[0m\u001b[1;32mTrue\u001b[0m\u001b[1;33m)\u001b[0m\u001b[1;33m\u001b[0m\u001b[1;33m\u001b[0m\u001b[0m\n\u001b[0m\u001b[0;32m      4\u001b[0m \u001b[1;33m\u001b[0m\u001b[0m\n\u001b[0;32m      5\u001b[0m \u001b[0mtitanic\u001b[0m \u001b[1;33m=\u001b[0m \u001b[0msns\u001b[0m\u001b[1;33m.\u001b[0m\u001b[0mload_dataset\u001b[0m\u001b[1;33m(\u001b[0m\u001b[1;34m\"titanic\"\u001b[0m\u001b[1;33m)\u001b[0m\u001b[1;33m\u001b[0m\u001b[1;33m\u001b[0m\u001b[0m\n",
      "\u001b[1;31mAttributeError\u001b[0m: module 'seaborn' has no attribute 'set_themes'"
     ]
    }
   ],
   "source": [
    "import seaborn as sns\n",
    "import matplotlib.pyplot as plt\n",
    "sns.set_themes(styles=\"ticks\", color_code=True)\n",
    "titanic = sns.load_dataset(\"titanic\")\n",
    "sns.catplot(x = \"sex\", y= \"survived\", hue= \"class\", kind= \"bar\", data= titanic)\n",
    "plt.show"
   ]
  },
  {
   "cell_type": "code",
   "execution_count": 10,
   "id": "fd621b1b",
   "metadata": {},
   "outputs": [
    {
     "ename": "TypeError",
     "evalue": "set_theme() got an unexpected keyword argument 'styles'",
     "output_type": "error",
     "traceback": [
      "\u001b[1;31m---------------------------------------------------------------------------\u001b[0m",
      "\u001b[1;31mTypeError\u001b[0m                                 Traceback (most recent call last)",
      "\u001b[1;32m~\\AppData\\Local\\Temp/ipykernel_38804/2601548667.py\u001b[0m in \u001b[0;36m<module>\u001b[1;34m\u001b[0m\n\u001b[0;32m      1\u001b[0m \u001b[1;32mimport\u001b[0m \u001b[0mseaborn\u001b[0m \u001b[1;32mas\u001b[0m \u001b[0msns\u001b[0m\u001b[1;33m\u001b[0m\u001b[1;33m\u001b[0m\u001b[0m\n\u001b[0;32m      2\u001b[0m \u001b[1;32mimport\u001b[0m \u001b[0mmatplotlib\u001b[0m\u001b[1;33m.\u001b[0m\u001b[0mpyplot\u001b[0m \u001b[1;32mas\u001b[0m \u001b[0mplt\u001b[0m\u001b[1;33m\u001b[0m\u001b[1;33m\u001b[0m\u001b[0m\n\u001b[1;32m----> 3\u001b[1;33m \u001b[0msns\u001b[0m\u001b[1;33m.\u001b[0m\u001b[0mset_theme\u001b[0m\u001b[1;33m(\u001b[0m\u001b[0mstyles\u001b[0m\u001b[1;33m=\u001b[0m\u001b[1;34m\"ticks\"\u001b[0m\u001b[1;33m,\u001b[0m \u001b[0mcolor_code\u001b[0m\u001b[1;33m=\u001b[0m\u001b[1;32mTrue\u001b[0m\u001b[1;33m)\u001b[0m\u001b[1;33m\u001b[0m\u001b[1;33m\u001b[0m\u001b[0m\n\u001b[0m\u001b[0;32m      4\u001b[0m \u001b[0mtitanic\u001b[0m \u001b[1;33m=\u001b[0m \u001b[0msns\u001b[0m\u001b[1;33m.\u001b[0m\u001b[0mload_dataset\u001b[0m\u001b[1;33m(\u001b[0m\u001b[1;34m\"titanic\"\u001b[0m\u001b[1;33m)\u001b[0m\u001b[1;33m\u001b[0m\u001b[1;33m\u001b[0m\u001b[0m\n\u001b[0;32m      5\u001b[0m \u001b[0msns\u001b[0m\u001b[1;33m.\u001b[0m\u001b[0mcatplot\u001b[0m\u001b[1;33m(\u001b[0m\u001b[0mx\u001b[0m \u001b[1;33m=\u001b[0m \u001b[1;34m\"sex\"\u001b[0m\u001b[1;33m,\u001b[0m \u001b[0my\u001b[0m\u001b[1;33m=\u001b[0m \u001b[1;34m\"survived\"\u001b[0m\u001b[1;33m,\u001b[0m \u001b[0mhue\u001b[0m\u001b[1;33m=\u001b[0m \u001b[1;34m\"class\"\u001b[0m\u001b[1;33m,\u001b[0m \u001b[0mkind\u001b[0m\u001b[1;33m=\u001b[0m \u001b[1;34m\"bar\"\u001b[0m\u001b[1;33m,\u001b[0m \u001b[0mdata\u001b[0m\u001b[1;33m=\u001b[0m \u001b[0mtitanic\u001b[0m\u001b[1;33m)\u001b[0m\u001b[1;33m\u001b[0m\u001b[1;33m\u001b[0m\u001b[0m\n",
      "\u001b[1;31mTypeError\u001b[0m: set_theme() got an unexpected keyword argument 'styles'"
     ]
    }
   ],
   "source": [
    "import seaborn as sns\n",
    "import matplotlib.pyplot as plt\n",
    "sns.set_theme(styles=\"ticks\", color_code=True)\n",
    "titanic = sns.load_dataset(\"titanic\")\n",
    "sns.catplot(x = \"sex\", y= \"survived\", hue= \"class\", kind= \"bar\", data= titanic)\n",
    "plt.show"
   ]
  },
  {
   "cell_type": "code",
   "execution_count": null,
   "id": "a502684d",
   "metadata": {},
   "outputs": [],
   "source": [
    "pip install seaborn"
   ]
  },
  {
   "cell_type": "code",
   "execution_count": null,
   "id": "b05cf318",
   "metadata": {
    "scrolled": true
   },
   "outputs": [],
   "source": [
    "pip install matpplot"
   ]
  },
  {
   "cell_type": "code",
   "execution_count": null,
   "id": "8a69bc4f",
   "metadata": {
    "scrolled": true
   },
   "outputs": [],
   "source": [
    "sns.set_themes(styles=\"ticks\", color_code=True)\n",
    "\n",
    "titanic = sns.load_dataset(\"titanic\")\n",
    "sns.catplot(x = \"sex\", y= \"survived\", hue= \"class\", kind= \"bar\", data= titanic)\n",
    "plt.show"
   ]
  },
  {
   "cell_type": "code",
   "execution_count": 11,
   "id": "767906e7",
   "metadata": {},
   "outputs": [
    {
     "name": "stdout",
     "output_type": "stream",
     "text": [
      "Collecting package metadata (current_repodata.json): ...working... failed\n",
      "\n",
      "Note: you may need to restart the kernel to use updated packages.\n"
     ]
    },
    {
     "name": "stderr",
     "output_type": "stream",
     "text": [
      "\n",
      "CondaHTTPError: HTTP 000 CONNECTION FAILED for url <https://repo.anaconda.com/pkgs/main/win-64/current_repodata.json>\n",
      "Elapsed: -\n",
      "\n",
      "An HTTP error occurred when trying to retrieve this URL.\n",
      "HTTP errors are often intermittent, and a simple retry will get you on your way.\n",
      "\n",
      "If your current network has https://www.anaconda.com blocked, please file\n",
      "a support request with your network engineering team.\n",
      "\n",
      "'https://repo.anaconda.com/pkgs/main/win-64'\n",
      "\n",
      "\n"
     ]
    }
   ],
   "source": [
    "conda install matplotlip"
   ]
  },
  {
   "cell_type": "code",
   "execution_count": null,
   "id": "0894f1a8",
   "metadata": {},
   "outputs": [],
   "source": [
    "conda install seaborn"
   ]
  }
 ],
 "metadata": {
  "kernelspec": {
   "display_name": "Python 3 (ipykernel)",
   "language": "python",
   "name": "python3"
  },
  "language_info": {
   "codemirror_mode": {
    "name": "ipython",
    "version": 3
   },
   "file_extension": ".py",
   "mimetype": "text/x-python",
   "name": "python",
   "nbconvert_exporter": "python",
   "pygments_lexer": "ipython3",
   "version": "3.9.7"
  }
 },
 "nbformat": 4,
 "nbformat_minor": 5
}
