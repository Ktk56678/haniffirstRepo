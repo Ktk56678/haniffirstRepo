{
 "cells": [
  {
   "cell_type": "markdown",
   "id": "219c8ac2",
   "metadata": {},
   "source": [
    "# 1- Indexing"
   ]
  },
  {
   "cell_type": "code",
   "execution_count": 4,
   "id": "11129dbf",
   "metadata": {},
   "outputs": [
    {
     "data": {
      "text/plain": [
       "'Hanif eatimg machine'"
      ]
     },
     "execution_count": 4,
     "metadata": {},
     "output_type": "execute_result"
    }
   ],
   "source": [
    "#make a string\n",
    "a = \"Hanif eatimg machine\"\n",
    "a"
   ]
  },
  {
   "cell_type": "code",
   "execution_count": 5,
   "id": "b28abb79",
   "metadata": {},
   "outputs": [
    {
     "data": {
      "text/plain": [
       "'Hanif eatimg machine'"
      ]
     },
     "execution_count": 5,
     "metadata": {},
     "output_type": "execute_result"
    }
   ],
   "source": [
    "a"
   ]
  },
  {
   "cell_type": "code",
   "execution_count": 6,
   "id": "cdb86140",
   "metadata": {},
   "outputs": [
    {
     "data": {
      "text/plain": [
       "'H'"
      ]
     },
     "execution_count": 6,
     "metadata": {},
     "output_type": "execute_result"
    }
   ],
   "source": [
    "a[0]"
   ]
  },
  {
   "cell_type": "code",
   "execution_count": 7,
   "id": "75d681eb",
   "metadata": {},
   "outputs": [
    {
     "data": {
      "text/plain": [
       "'t'"
      ]
     },
     "execution_count": 7,
     "metadata": {},
     "output_type": "execute_result"
    }
   ],
   "source": [
    "a[8]"
   ]
  },
  {
   "cell_type": "code",
   "execution_count": 8,
   "id": "1e27d442",
   "metadata": {},
   "outputs": [
    {
     "data": {
      "text/plain": [
       "'g'"
      ]
     },
     "execution_count": 8,
     "metadata": {},
     "output_type": "execute_result"
    }
   ],
   "source": [
    "a[-9]"
   ]
  },
  {
   "cell_type": "code",
   "execution_count": 10,
   "id": "790613cf",
   "metadata": {},
   "outputs": [
    {
     "data": {
      "text/plain": [
       "'e'"
      ]
     },
     "execution_count": 10,
     "metadata": {},
     "output_type": "execute_result"
    }
   ],
   "source": [
    "a[6]"
   ]
  },
  {
   "cell_type": "code",
   "execution_count": 11,
   "id": "3fa10982",
   "metadata": {},
   "outputs": [
    {
     "data": {
      "text/plain": [
       "'Hanif ea'"
      ]
     },
     "execution_count": 11,
     "metadata": {},
     "output_type": "execute_result"
    }
   ],
   "source": [
    "a[0:8]"
   ]
  },
  {
   "cell_type": "code",
   "execution_count": 12,
   "id": "d789d219",
   "metadata": {},
   "outputs": [
    {
     "data": {
      "text/plain": [
       "'Hanif'"
      ]
     },
     "execution_count": 12,
     "metadata": {},
     "output_type": "execute_result"
    }
   ],
   "source": [
    "a[0:5]"
   ]
  },
  {
   "cell_type": "code",
   "execution_count": 13,
   "id": "138150ee",
   "metadata": {},
   "outputs": [
    {
     "data": {
      "text/plain": [
       "'Hani'"
      ]
     },
     "execution_count": 13,
     "metadata": {},
     "output_type": "execute_result"
    }
   ],
   "source": [
    "a[0:4]"
   ]
  },
  {
   "cell_type": "code",
   "execution_count": 14,
   "id": "b3987ebc",
   "metadata": {},
   "outputs": [
    {
     "data": {
      "text/plain": [
       "'Hanif eatimg machine'"
      ]
     },
     "execution_count": 14,
     "metadata": {},
     "output_type": "execute_result"
    }
   ],
   "source": [
    "a[0:21]"
   ]
  },
  {
   "cell_type": "code",
   "execution_count": 15,
   "id": "02f8056c",
   "metadata": {},
   "outputs": [
    {
     "data": {
      "text/plain": [
       "'Hanif eatimg machin'"
      ]
     },
     "execution_count": 15,
     "metadata": {},
     "output_type": "execute_result"
    }
   ],
   "source": [
    "a[0:19]"
   ]
  },
  {
   "cell_type": "code",
   "execution_count": 16,
   "id": "a6149af8",
   "metadata": {},
   "outputs": [
    {
     "data": {
      "text/plain": [
       "''"
      ]
     },
     "execution_count": 16,
     "metadata": {},
     "output_type": "execute_result"
    }
   ],
   "source": [
    "a[-1:16]"
   ]
  },
  {
   "cell_type": "code",
   "execution_count": 17,
   "id": "cbe23424",
   "metadata": {},
   "outputs": [
    {
     "data": {
      "text/plain": [
       "'achin'"
      ]
     },
     "execution_count": 17,
     "metadata": {},
     "output_type": "execute_result"
    }
   ],
   "source": [
    "a[-6:-1]"
   ]
  },
  {
   "cell_type": "code",
   "execution_count": 18,
   "id": "5fbed85c",
   "metadata": {},
   "outputs": [
    {
     "data": {
      "text/plain": [
       "''"
      ]
     },
     "execution_count": 18,
     "metadata": {},
     "output_type": "execute_result"
    }
   ],
   "source": [
    "a[-6:-21]"
   ]
  },
  {
   "cell_type": "code",
   "execution_count": 20,
   "id": "ec464768",
   "metadata": {},
   "outputs": [
    {
     "data": {
      "text/plain": [
       "'Hanif eatimg '"
      ]
     },
     "execution_count": 20,
     "metadata": {},
     "output_type": "execute_result"
    }
   ],
   "source": [
    "a[-21:-7]"
   ]
  },
  {
   "cell_type": "code",
   "execution_count": 21,
   "id": "3d1d04af",
   "metadata": {},
   "outputs": [
    {
     "data": {
      "text/plain": [
       "'machin'"
      ]
     },
     "execution_count": 21,
     "metadata": {},
     "output_type": "execute_result"
    }
   ],
   "source": [
    "a[-7:-1]"
   ]
  },
  {
   "cell_type": "code",
   "execution_count": 27,
   "id": "f5cf8162",
   "metadata": {},
   "outputs": [
    {
     "data": {
      "text/plain": [
       "'hanif'"
      ]
     },
     "execution_count": 27,
     "metadata": {},
     "output_type": "execute_result"
    }
   ],
   "source": [
    "food = \"hanif\"\n",
    "food"
   ]
  },
  {
   "cell_type": "markdown",
   "id": "5a4608db",
   "metadata": {},
   "source": [
    "# 1- Strings"
   ]
  },
  {
   "cell_type": "code",
   "execution_count": 28,
   "id": "bfa7fd1a",
   "metadata": {},
   "outputs": [
    {
     "data": {
      "text/plain": [
       "'hanif'"
      ]
     },
     "execution_count": 28,
     "metadata": {},
     "output_type": "execute_result"
    }
   ],
   "source": [
    "food"
   ]
  },
  {
   "cell_type": "code",
   "execution_count": 24,
   "id": "032c5135",
   "metadata": {},
   "outputs": [
    {
     "data": {
      "text/plain": [
       "5"
      ]
     },
     "execution_count": 24,
     "metadata": {},
     "output_type": "execute_result"
    }
   ],
   "source": [
    "len(food)"
   ]
  },
  {
   "cell_type": "code",
   "execution_count": 25,
   "id": "c8aa940e",
   "metadata": {},
   "outputs": [
    {
     "data": {
      "text/plain": [
       "<function str.capitalize()>"
      ]
     },
     "execution_count": 25,
     "metadata": {},
     "output_type": "execute_result"
    }
   ],
   "source": [
    "food.capitalize"
   ]
  },
  {
   "cell_type": "code",
   "execution_count": 29,
   "id": "9bef96ca",
   "metadata": {},
   "outputs": [
    {
     "data": {
      "text/plain": [
       "'Hanif'"
      ]
     },
     "execution_count": 29,
     "metadata": {},
     "output_type": "execute_result"
    }
   ],
   "source": [
    "food.capitalize()"
   ]
  },
  {
   "cell_type": "code",
   "execution_count": 34,
   "id": "c3cf59ab",
   "metadata": {},
   "outputs": [
    {
     "data": {
      "text/plain": [
       "'HANIF'"
      ]
     },
     "execution_count": 34,
     "metadata": {},
     "output_type": "execute_result"
    }
   ],
   "source": [
    "#####Capitalize\n",
    "food.upper()"
   ]
  },
  {
   "cell_type": "code",
   "execution_count": 31,
   "id": "3aa5e8e4",
   "metadata": {},
   "outputs": [
    {
     "data": {
      "text/plain": [
       "'hanif'"
      ]
     },
     "execution_count": 31,
     "metadata": {},
     "output_type": "execute_result"
    }
   ],
   "source": [
    "food.lower()"
   ]
  },
  {
   "cell_type": "code",
   "execution_count": 37,
   "id": "61c3d0b0",
   "metadata": {},
   "outputs": [
    {
     "data": {
      "text/plain": [
       "'shanif'"
      ]
     },
     "execution_count": 37,
     "metadata": {},
     "output_type": "execute_result"
    }
   ],
   "source": [
    "####replace\n",
    "food.replace(\"h\",\"sh\")"
   ]
  },
  {
   "cell_type": "code",
   "execution_count": 38,
   "id": "37fd8ca4",
   "metadata": {},
   "outputs": [
    {
     "data": {
      "text/plain": [
       "'Hanif will definitely learn python with baba Ammar'"
      ]
     },
     "execution_count": 38,
     "metadata": {},
     "output_type": "execute_result"
    }
   ],
   "source": [
    "### counting of a specific alphabet in a string \n",
    "name = \"Hanif will definitely learn python with baba Ammar\"\n",
    "name"
   ]
  },
  {
   "cell_type": "code",
   "execution_count": 39,
   "id": "827473ae",
   "metadata": {},
   "outputs": [
    {
     "data": {
      "text/plain": [
       "2"
      ]
     },
     "execution_count": 39,
     "metadata": {},
     "output_type": "execute_result"
    }
   ],
   "source": [
    "name.count(\"h\")"
   ]
  },
  {
   "cell_type": "code",
   "execution_count": 40,
   "id": "d5ee84d7",
   "metadata": {},
   "outputs": [
    {
     "data": {
      "text/plain": [
       "3"
      ]
     },
     "execution_count": 40,
     "metadata": {},
     "output_type": "execute_result"
    }
   ],
   "source": [
    "name.count(\"e\")"
   ]
  },
  {
   "cell_type": "code",
   "execution_count": 41,
   "id": "a6f9487e",
   "metadata": {},
   "outputs": [
    {
     "data": {
      "text/plain": [
       "2"
      ]
     },
     "execution_count": 41,
     "metadata": {},
     "output_type": "execute_result"
    }
   ],
   "source": [
    "name.count(\"ba\")"
   ]
  },
  {
   "cell_type": "code",
   "execution_count": 42,
   "id": "6ac4adb2",
   "metadata": {},
   "outputs": [
    {
     "data": {
      "text/plain": [
       "1"
      ]
     },
     "execution_count": 42,
     "metadata": {},
     "output_type": "execute_result"
    }
   ],
   "source": [
    "name.count(\"mm\")"
   ]
  },
  {
   "cell_type": "markdown",
   "id": "55a27450",
   "metadata": {},
   "source": [
    "# 2- finding an index number in a strings"
   ]
  },
  {
   "cell_type": "code",
   "execution_count": 43,
   "id": "264a416c",
   "metadata": {},
   "outputs": [
    {
     "data": {
      "text/plain": [
       "'Hanif will definitely learn python with baba Ammar'"
      ]
     },
     "execution_count": 43,
     "metadata": {},
     "output_type": "execute_result"
    }
   ],
   "source": [
    "name = \"Hanif will definitely learn python with baba Ammar\"\n",
    "name"
   ]
  },
  {
   "cell_type": "code",
   "execution_count": 44,
   "id": "c196cfed",
   "metadata": {},
   "outputs": [
    {
     "data": {
      "text/plain": [
       "3"
      ]
     },
     "execution_count": 44,
     "metadata": {},
     "output_type": "execute_result"
    }
   ],
   "source": [
    "name.find(\"i\")"
   ]
  },
  {
   "cell_type": "code",
   "execution_count": 45,
   "id": "5e176e54",
   "metadata": {},
   "outputs": [
    {
     "data": {
      "text/plain": [
       "46"
      ]
     },
     "execution_count": 45,
     "metadata": {},
     "output_type": "execute_result"
    }
   ],
   "source": [
    "name.find(\"m\")"
   ]
  },
  {
   "cell_type": "code",
   "execution_count": 46,
   "id": "5118d67a",
   "metadata": {},
   "outputs": [
    {
     "data": {
      "text/plain": [
       "25"
      ]
     },
     "execution_count": 46,
     "metadata": {},
     "output_type": "execute_result"
    }
   ],
   "source": [
    "name.find(\"r\")"
   ]
  },
  {
   "cell_type": "code",
   "execution_count": 48,
   "id": "65fe9124",
   "metadata": {},
   "outputs": [
    {
     "data": {
      "text/plain": [
       "'Hanif love to eat all kind of food such as biryani, samosa, pakora, karahi, raita and chicken'"
      ]
     },
     "execution_count": 48,
     "metadata": {},
     "output_type": "execute_result"
    }
   ],
   "source": [
    "#### how to splite a string\n",
    "food = \"Hanif love to eat all kind of food such as biryani, samosa, pakora, karahi, raita and chicken\"\n",
    "food"
   ]
  },
  {
   "cell_type": "code",
   "execution_count": 49,
   "id": "099676ec",
   "metadata": {},
   "outputs": [
    {
     "data": {
      "text/plain": [
       "['Hanif love to eat all kind of food such as biryani',\n",
       " ' samosa',\n",
       " ' pakora',\n",
       " ' karahi',\n",
       " ' raita and chicken']"
      ]
     },
     "execution_count": 49,
     "metadata": {},
     "output_type": "execute_result"
    }
   ],
   "source": [
    "food.split(\",\")"
   ]
  },
  {
   "cell_type": "markdown",
   "id": "e40623b3",
   "metadata": {},
   "source": [
    "## Basic data structure in Python\n",
    "# 1-Tuple\n",
    "# 2- List\n",
    "# 3- Dictionaries\n",
    "# 4- Set"
   ]
  },
  {
   "cell_type": "markdown",
   "id": "ee0b7d4b",
   "metadata": {},
   "source": [
    "## 1- Tuple\n",
    "-ordered collection of elements \n",
    "\n",
    "-enclosed in () brackets \n",
    "\n",
    "-different kind of elements can be stored \n",
    "\n",
    "-once elements can stored, you can not change them (unmutatable)"
   ]
  },
  {
   "cell_type": "code",
   "execution_count": 51,
   "id": "a9250c72",
   "metadata": {},
   "outputs": [
    {
     "data": {
      "text/plain": [
       "('Hanif', 87, True, 76.9)"
      ]
     },
     "execution_count": 51,
     "metadata": {},
     "output_type": "execute_result"
    }
   ],
   "source": [
    "tup1 = (\"Hanif\", 87, True, 76.9)\n",
    "tup1"
   ]
  },
  {
   "cell_type": "code",
   "execution_count": 56,
   "id": "8e06c5b6",
   "metadata": {},
   "outputs": [
    {
     "data": {
      "text/plain": [
       "tuple"
      ]
     },
     "execution_count": 56,
     "metadata": {},
     "output_type": "execute_result"
    }
   ],
   "source": [
    "### type of tuple\n",
    "type(tup1)\n"
   ]
  },
  {
   "cell_type": "markdown",
   "id": "872f3686",
   "metadata": {},
   "source": [
    "### Indexing in tuple"
   ]
  },
  {
   "cell_type": "code",
   "execution_count": 57,
   "id": "8796e4bc",
   "metadata": {},
   "outputs": [
    {
     "ename": "TypeError",
     "evalue": "'tuple' object is not callable",
     "output_type": "error",
     "traceback": [
      "\u001b[1;31m---------------------------------------------------------------------------\u001b[0m",
      "\u001b[1;31mTypeError\u001b[0m                                 Traceback (most recent call last)",
      "\u001b[1;32m~\\AppData\\Local\\Temp/ipykernel_16704/759185216.py\u001b[0m in \u001b[0;36m<module>\u001b[1;34m\u001b[0m\n\u001b[1;32m----> 1\u001b[1;33m \u001b[0mtup1\u001b[0m\u001b[1;33m(\u001b[0m\u001b[1;36m1\u001b[0m\u001b[1;33m)\u001b[0m\u001b[1;33m\u001b[0m\u001b[1;33m\u001b[0m\u001b[0m\n\u001b[0m",
      "\u001b[1;31mTypeError\u001b[0m: 'tuple' object is not callable"
     ]
    }
   ],
   "source": [
    "tup1(1)"
   ]
  },
  {
   "cell_type": "code",
   "execution_count": 58,
   "id": "57b01b90",
   "metadata": {},
   "outputs": [
    {
     "data": {
      "text/plain": [
       "76.9"
      ]
     },
     "execution_count": 58,
     "metadata": {},
     "output_type": "execute_result"
    }
   ],
   "source": [
    "tup1[3]"
   ]
  },
  {
   "cell_type": "code",
   "execution_count": 59,
   "id": "4ffbef3f",
   "metadata": {},
   "outputs": [
    {
     "data": {
      "text/plain": [
       "87"
      ]
     },
     "execution_count": 59,
     "metadata": {},
     "output_type": "execute_result"
    }
   ],
   "source": [
    "tup1[1]"
   ]
  },
  {
   "cell_type": "code",
   "execution_count": 60,
   "id": "a80d540e",
   "metadata": {},
   "outputs": [
    {
     "data": {
      "text/plain": [
       "'Hanif'"
      ]
     },
     "execution_count": 60,
     "metadata": {},
     "output_type": "execute_result"
    }
   ],
   "source": [
    "tup1[0]"
   ]
  },
  {
   "cell_type": "code",
   "execution_count": 61,
   "id": "a6eae1c5",
   "metadata": {},
   "outputs": [
    {
     "data": {
      "text/plain": [
       "('Hanif', 87, True)"
      ]
     },
     "execution_count": 61,
     "metadata": {},
     "output_type": "execute_result"
    }
   ],
   "source": [
    "tup1[0:3]"
   ]
  },
  {
   "cell_type": "code",
   "execution_count": 62,
   "id": "fa0177b4",
   "metadata": {},
   "outputs": [
    {
     "data": {
      "text/plain": [
       "('Hanif', 87, True, 76.9)"
      ]
     },
     "execution_count": 62,
     "metadata": {},
     "output_type": "execute_result"
    }
   ],
   "source": [
    "tup1[0:4]"
   ]
  },
  {
   "cell_type": "code",
   "execution_count": 63,
   "id": "93ea0b21",
   "metadata": {},
   "outputs": [
    {
     "data": {
      "text/plain": [
       "('Hanif',)"
      ]
     },
     "execution_count": 63,
     "metadata": {},
     "output_type": "execute_result"
    }
   ],
   "source": [
    "tup1[0:1]"
   ]
  },
  {
   "cell_type": "code",
   "execution_count": 64,
   "id": "2c7d45cd",
   "metadata": {},
   "outputs": [
    {
     "ename": "TypeError",
     "evalue": "tuple indices must be integers or slices, not builtin_function_or_method",
     "output_type": "error",
     "traceback": [
      "\u001b[1;31m---------------------------------------------------------------------------\u001b[0m",
      "\u001b[1;31mTypeError\u001b[0m                                 Traceback (most recent call last)",
      "\u001b[1;32m~\\AppData\\Local\\Temp/ipykernel_16704/1177180938.py\u001b[0m in \u001b[0;36m<module>\u001b[1;34m\u001b[0m\n\u001b[1;32m----> 1\u001b[1;33m \u001b[0mtup1\u001b[0m\u001b[1;33m[\u001b[0m\u001b[0mlen\u001b[0m\u001b[1;33m]\u001b[0m\u001b[1;33m\u001b[0m\u001b[1;33m\u001b[0m\u001b[0m\n\u001b[0m",
      "\u001b[1;31mTypeError\u001b[0m: tuple indices must be integers or slices, not builtin_function_or_method"
     ]
    }
   ],
   "source": [
    "tup1[len]"
   ]
  },
  {
   "cell_type": "code",
   "execution_count": 66,
   "id": "517aae6d",
   "metadata": {},
   "outputs": [
    {
     "data": {
      "text/plain": [
       "4"
      ]
     },
     "execution_count": 66,
     "metadata": {},
     "output_type": "execute_result"
    }
   ],
   "source": [
    "#### count of elements in tuple\n",
    "len(tup1)"
   ]
  },
  {
   "cell_type": "code",
   "execution_count": 67,
   "id": "07a9c8e6",
   "metadata": {},
   "outputs": [
    {
     "data": {
      "text/plain": [
       "(9, 'baba Ammar', 8.9, False)"
      ]
     },
     "execution_count": 67,
     "metadata": {},
     "output_type": "execute_result"
    }
   ],
   "source": [
    "tup2 = (9, \"baba Ammar\", 8.9, False)\n",
    "tup2"
   ]
  },
  {
   "cell_type": "code",
   "execution_count": 78,
   "id": "55fb423c",
   "metadata": {},
   "outputs": [
    {
     "data": {
      "text/plain": [
       "('Hanif', 87, True, 76.9, 9, 'baba Ammar', 8.9, False)"
      ]
     },
     "execution_count": 78,
     "metadata": {},
     "output_type": "execute_result"
    }
   ],
   "source": [
    "###concatinating(to add tuple)\n",
    "tup1+tup2"
   ]
  },
  {
   "cell_type": "code",
   "execution_count": 69,
   "id": "032090a7",
   "metadata": {},
   "outputs": [
    {
     "data": {
      "text/plain": [
       "('Hanif', 87, True, 76.9, 'Hanif', 87, True, 76.9, 9, 'baba Ammar', 8.9, False)"
      ]
     },
     "execution_count": 69,
     "metadata": {},
     "output_type": "execute_result"
    }
   ],
   "source": [
    "tup1*2 + tup2"
   ]
  },
  {
   "cell_type": "code",
   "execution_count": 71,
   "id": "a84948e6",
   "metadata": {},
   "outputs": [
    {
     "data": {
      "text/plain": [
       "(29, 87, 65, 98, 34)"
      ]
     },
     "execution_count": 71,
     "metadata": {},
     "output_type": "execute_result"
    }
   ],
   "source": [
    "tup3 = (29,87,65,98,34)\n",
    "tup3"
   ]
  },
  {
   "cell_type": "code",
   "execution_count": 72,
   "id": "bc7c6fee",
   "metadata": {},
   "outputs": [
    {
     "data": {
      "text/plain": [
       "29"
      ]
     },
     "execution_count": 72,
     "metadata": {},
     "output_type": "execute_result"
    }
   ],
   "source": [
    "####minimum valve\n",
    "min(tup3)"
   ]
  },
  {
   "cell_type": "code",
   "execution_count": 74,
   "id": "97083e23",
   "metadata": {},
   "outputs": [
    {
     "data": {
      "text/plain": [
       "98"
      ]
     },
     "execution_count": 74,
     "metadata": {},
     "output_type": "execute_result"
    }
   ],
   "source": [
    "####maximum valve\n",
    "max(tup3)"
   ]
  },
  {
   "cell_type": "code",
   "execution_count": 76,
   "id": "29d5b20d",
   "metadata": {},
   "outputs": [
    {
     "data": {
      "text/plain": [
       "(29, 87, 65, 98, 34, 29, 87, 65, 98, 34, 29, 87, 65, 98, 34)"
      ]
     },
     "execution_count": 76,
     "metadata": {},
     "output_type": "execute_result"
    }
   ],
   "source": [
    "tup3*3"
   ]
  },
  {
   "cell_type": "code",
   "execution_count": 77,
   "id": "3ebf459c",
   "metadata": {},
   "outputs": [
    {
     "ename": "TypeError",
     "evalue": "can only concatenate tuple (not \"int\") to tuple",
     "output_type": "error",
     "traceback": [
      "\u001b[1;31m---------------------------------------------------------------------------\u001b[0m",
      "\u001b[1;31mTypeError\u001b[0m                                 Traceback (most recent call last)",
      "\u001b[1;32m~\\AppData\\Local\\Temp/ipykernel_16704/822999512.py\u001b[0m in \u001b[0;36m<module>\u001b[1;34m\u001b[0m\n\u001b[1;32m----> 1\u001b[1;33m \u001b[0mtup3\u001b[0m \u001b[1;33m+\u001b[0m \u001b[1;36m2\u001b[0m\u001b[1;33m\u001b[0m\u001b[1;33m\u001b[0m\u001b[0m\n\u001b[0m",
      "\u001b[1;31mTypeError\u001b[0m: can only concatenate tuple (not \"int\") to tuple"
     ]
    }
   ],
   "source": [
    "tup3 + 2"
   ]
  },
  {
   "cell_type": "markdown",
   "id": "b5e31e94",
   "metadata": {},
   "source": [
    "---"
   ]
  },
  {
   "cell_type": "markdown",
   "id": "fc1af710",
   "metadata": {},
   "source": [
    "---"
   ]
  },
  {
   "cell_type": "markdown",
   "id": "f70f01a7",
   "metadata": {},
   "source": [
    "### 2- list\n",
    "- ordered collection of elements\n",
    "- enclosed in such brackets [   ]\n",
    "- mutatable, you can change the value"
   ]
  },
  {
   "cell_type": "markdown",
   "id": "c58d0c3e",
   "metadata": {},
   "source": [
    "#####Python offers the subsequent list functions:\n",
    "\n",
    "- sort(): Sorts the list in ascending order.\n",
    "\n",
    "- type(list): It returns the class type of an object.\n",
    "\n",
    "- append(): Adds one element to a list.\n",
    "\n",
    "- extend(): Adds multiple elements to a list.\n",
    "\n",
    "- index(): Returns the first appearance of a particular value.\n",
    "\n",
    "- max(list): It returns an item from the list with a max value.\n",
    "\n",
    "- min(list): It returns an item from the list with a min value.\n",
    "\n",
    "- len(list): It gives the overall length of the list.\n",
    "\n",
    "- clear(): Removes all the elements from the list.\n",
    "\n",
    "- insert(): Adds a component at the required position.\n",
    "\n",
    "- count(): Returns the number of elements with the required value.\n",
    "\n",
    "- pop(): Removes the element at the required position.\n",
    "\n",
    "- remove(): Removes the primary item with the desired value.\n",
    "\n",
    "- reverse(): Reverses the order of the list.\n",
    "\n",
    "- copy():  Returns a duplicate of the list.\n"
   ]
  },
  {
   "cell_type": "code",
   "execution_count": 81,
   "id": "483a5728",
   "metadata": {},
   "outputs": [
    {
     "data": {
      "text/plain": [
       "[45, 'hanif', 78.6]"
      ]
     },
     "execution_count": 81,
     "metadata": {},
     "output_type": "execute_result"
    }
   ],
   "source": [
    "list1 = [45, \"hanif\", 78.6]\n",
    "list1"
   ]
  },
  {
   "cell_type": "code",
   "execution_count": 82,
   "id": "2b5d0486",
   "metadata": {},
   "outputs": [
    {
     "data": {
      "text/plain": [
       "list"
      ]
     },
     "execution_count": 82,
     "metadata": {},
     "output_type": "execute_result"
    }
   ],
   "source": [
    "type(list1)"
   ]
  },
  {
   "cell_type": "code",
   "execution_count": 83,
   "id": "90315797",
   "metadata": {},
   "outputs": [
    {
     "data": {
      "text/plain": [
       "3"
      ]
     },
     "execution_count": 83,
     "metadata": {},
     "output_type": "execute_result"
    }
   ],
   "source": [
    "len(list1)"
   ]
  },
  {
   "cell_type": "code",
   "execution_count": 84,
   "id": "17a88dcd",
   "metadata": {},
   "outputs": [
    {
     "ename": "IndexError",
     "evalue": "list index out of range",
     "output_type": "error",
     "traceback": [
      "\u001b[1;31m---------------------------------------------------------------------------\u001b[0m",
      "\u001b[1;31mIndexError\u001b[0m                                Traceback (most recent call last)",
      "\u001b[1;32m~\\AppData\\Local\\Temp/ipykernel_16704/576394295.py\u001b[0m in \u001b[0;36m<module>\u001b[1;34m\u001b[0m\n\u001b[1;32m----> 1\u001b[1;33m \u001b[0mlist1\u001b[0m\u001b[1;33m[\u001b[0m\u001b[1;36m3\u001b[0m\u001b[1;33m]\u001b[0m\u001b[1;33m\u001b[0m\u001b[1;33m\u001b[0m\u001b[0m\n\u001b[0m",
      "\u001b[1;31mIndexError\u001b[0m: list index out of range"
     ]
    }
   ],
   "source": [
    "list1[3]"
   ]
  },
  {
   "cell_type": "code",
   "execution_count": 85,
   "id": "08e6adb2",
   "metadata": {},
   "outputs": [
    {
     "data": {
      "text/plain": [
       "78.6"
      ]
     },
     "execution_count": 85,
     "metadata": {},
     "output_type": "execute_result"
    }
   ],
   "source": [
    "list1[2]"
   ]
  },
  {
   "cell_type": "code",
   "execution_count": 86,
   "id": "9f1db15f",
   "metadata": {},
   "outputs": [
    {
     "data": {
      "text/plain": [
       "45"
      ]
     },
     "execution_count": 86,
     "metadata": {},
     "output_type": "execute_result"
    }
   ],
   "source": [
    "list1[0]"
   ]
  },
  {
   "cell_type": "code",
   "execution_count": 87,
   "id": "fb944b1d",
   "metadata": {},
   "outputs": [
    {
     "data": {
      "text/plain": [
       "'hanif'"
      ]
     },
     "execution_count": 87,
     "metadata": {},
     "output_type": "execute_result"
    }
   ],
   "source": [
    "list1[1]"
   ]
  },
  {
   "cell_type": "code",
   "execution_count": 89,
   "id": "00a3f76a",
   "metadata": {},
   "outputs": [
    {
     "data": {
      "text/plain": [
       "[36, 908, 76, 'hanif', 'khattak', 908, 109.7]"
      ]
     },
     "execution_count": 89,
     "metadata": {},
     "output_type": "execute_result"
    }
   ],
   "source": [
    "list2 = [36,908,76,\"hanif\",\"khattak\",908,109.7]\n",
    "list2"
   ]
  },
  {
   "cell_type": "code",
   "execution_count": 90,
   "id": "7c29eaf9",
   "metadata": {},
   "outputs": [
    {
     "data": {
      "text/plain": [
       "[45, 'hanif', 78.6, 36, 908, 76, 'hanif', 'khattak', 908, 109.7]"
      ]
     },
     "execution_count": 90,
     "metadata": {},
     "output_type": "execute_result"
    }
   ],
   "source": [
    "list1 + list2"
   ]
  },
  {
   "cell_type": "code",
   "execution_count": 91,
   "id": "bab8b006",
   "metadata": {},
   "outputs": [
    {
     "ename": "TypeError",
     "evalue": "can't multiply sequence by non-int of type 'list'",
     "output_type": "error",
     "traceback": [
      "\u001b[1;31m---------------------------------------------------------------------------\u001b[0m",
      "\u001b[1;31mTypeError\u001b[0m                                 Traceback (most recent call last)",
      "\u001b[1;32m~\\AppData\\Local\\Temp/ipykernel_16704/1489627634.py\u001b[0m in \u001b[0;36m<module>\u001b[1;34m\u001b[0m\n\u001b[1;32m----> 1\u001b[1;33m \u001b[0mlist1\u001b[0m\u001b[1;33m*\u001b[0m\u001b[0mlist2\u001b[0m\u001b[1;33m\u001b[0m\u001b[1;33m\u001b[0m\u001b[0m\n\u001b[0m",
      "\u001b[1;31mTypeError\u001b[0m: can't multiply sequence by non-int of type 'list'"
     ]
    }
   ],
   "source": [
    "list1*list2"
   ]
  },
  {
   "cell_type": "code",
   "execution_count": 92,
   "id": "481619ba",
   "metadata": {},
   "outputs": [
    {
     "data": {
      "text/plain": [
       "[36,\n",
       " 908,\n",
       " 76,\n",
       " 'hanif',\n",
       " 'khattak',\n",
       " 908,\n",
       " 109.7,\n",
       " 36,\n",
       " 908,\n",
       " 76,\n",
       " 'hanif',\n",
       " 'khattak',\n",
       " 908,\n",
       " 109.7]"
      ]
     },
     "execution_count": 92,
     "metadata": {},
     "output_type": "execute_result"
    }
   ],
   "source": [
    "list2*2"
   ]
  },
  {
   "cell_type": "code",
   "execution_count": 93,
   "id": "31b5c3e9",
   "metadata": {},
   "outputs": [
    {
     "data": {
      "text/plain": [
       "[78.6, 'hanif', 45]"
      ]
     },
     "execution_count": 93,
     "metadata": {},
     "output_type": "execute_result"
    }
   ],
   "source": [
    "list1.reverse()\n",
    "list1\n"
   ]
  },
  {
   "cell_type": "code",
   "execution_count": 94,
   "id": "41d2bde7",
   "metadata": {},
   "outputs": [
    {
     "data": {
      "text/plain": [
       "[]"
      ]
     },
     "execution_count": 94,
     "metadata": {},
     "output_type": "execute_result"
    }
   ],
   "source": [
    "list1.clear()\n",
    "list1"
   ]
  },
  {
   "cell_type": "code",
   "execution_count": 95,
   "id": "c68a8220",
   "metadata": {},
   "outputs": [
    {
     "data": {
      "text/plain": [
       "[36, 908, 76, 'hanif', 'khattak', 908, 109.7]"
      ]
     },
     "execution_count": 95,
     "metadata": {},
     "output_type": "execute_result"
    }
   ],
   "source": [
    "list2.copy()\n",
    "list2"
   ]
  },
  {
   "cell_type": "code",
   "execution_count": 98,
   "id": "e8a89ddc",
   "metadata": {},
   "outputs": [
    {
     "ename": "NameError",
     "evalue": "name 'hanif' is not defined",
     "output_type": "error",
     "traceback": [
      "\u001b[1;31m---------------------------------------------------------------------------\u001b[0m",
      "\u001b[1;31mNameError\u001b[0m                                 Traceback (most recent call last)",
      "\u001b[1;32m~\\AppData\\Local\\Temp/ipykernel_16704/1138123295.py\u001b[0m in \u001b[0;36m<module>\u001b[1;34m\u001b[0m\n\u001b[1;32m----> 1\u001b[1;33m \u001b[0mlist2\u001b[0m\u001b[1;33m.\u001b[0m\u001b[0mcount\u001b[0m\u001b[1;33m(\u001b[0m\u001b[0mhanif\u001b[0m\u001b[1;33m)\u001b[0m\u001b[1;33m\u001b[0m\u001b[1;33m\u001b[0m\u001b[0m\n\u001b[0m\u001b[0;32m      2\u001b[0m \u001b[0mlist2\u001b[0m\u001b[1;33m\u001b[0m\u001b[1;33m\u001b[0m\u001b[0m\n",
      "\u001b[1;31mNameError\u001b[0m: name 'hanif' is not defined"
     ]
    }
   ],
   "source": [
    "list2.count(hanif)\n",
    "list2"
   ]
  },
  {
   "cell_type": "code",
   "execution_count": 101,
   "id": "147b51da",
   "metadata": {},
   "outputs": [
    {
     "ename": "ValueError",
     "evalue": "0 is not in list",
     "output_type": "error",
     "traceback": [
      "\u001b[1;31m---------------------------------------------------------------------------\u001b[0m",
      "\u001b[1;31mValueError\u001b[0m                                Traceback (most recent call last)",
      "\u001b[1;32m~\\AppData\\Local\\Temp/ipykernel_16704/2203161888.py\u001b[0m in \u001b[0;36m<module>\u001b[1;34m\u001b[0m\n\u001b[1;32m----> 1\u001b[1;33m \u001b[0mlist2\u001b[0m\u001b[1;33m.\u001b[0m\u001b[0mindex\u001b[0m\u001b[1;33m(\u001b[0m\u001b[1;36m0\u001b[0m\u001b[1;33m)\u001b[0m\u001b[1;33m\u001b[0m\u001b[1;33m\u001b[0m\u001b[0m\n\u001b[0m\u001b[0;32m      2\u001b[0m \u001b[0mlist2\u001b[0m\u001b[1;33m\u001b[0m\u001b[1;33m\u001b[0m\u001b[0m\n",
      "\u001b[1;31mValueError\u001b[0m: 0 is not in list"
     ]
    }
   ],
   "source": [
    "list2.index(0)\n",
    "list2"
   ]
  },
  {
   "cell_type": "code",
   "execution_count": 102,
   "id": "2fb10b49",
   "metadata": {},
   "outputs": [
    {
     "data": {
      "text/plain": [
       "[36, 908, 76, 'hanif', 'khattak', 908]"
      ]
     },
     "execution_count": 102,
     "metadata": {},
     "output_type": "execute_result"
    }
   ],
   "source": [
    "list2.pop()\n",
    "list2"
   ]
  },
  {
   "cell_type": "code",
   "execution_count": 103,
   "id": "155ec162",
   "metadata": {},
   "outputs": [
    {
     "data": {
      "text/plain": [
       "[36, 908, 76, 'hanif', 'khattak', 908, 'baba Ammar']"
      ]
     },
     "execution_count": 103,
     "metadata": {},
     "output_type": "execute_result"
    }
   ],
   "source": [
    "list2.append(\"baba Ammar\")\n",
    "list2"
   ]
  },
  {
   "cell_type": "code",
   "execution_count": 104,
   "id": "518d240d",
   "metadata": {},
   "outputs": [
    {
     "data": {
      "text/plain": [
       "['khattak']"
      ]
     },
     "execution_count": 104,
     "metadata": {},
     "output_type": "execute_result"
    }
   ],
   "source": [
    "list1.append(\"khattak\")\n",
    "list1"
   ]
  },
  {
   "cell_type": "code",
   "execution_count": 105,
   "id": "d113bab5",
   "metadata": {},
   "outputs": [
    {
     "data": {
      "text/plain": [
       "['khattak']"
      ]
     },
     "execution_count": 105,
     "metadata": {},
     "output_type": "execute_result"
    }
   ],
   "source": [
    "list1\n"
   ]
  },
  {
   "cell_type": "code",
   "execution_count": 106,
   "id": "ffc88e47",
   "metadata": {},
   "outputs": [
    {
     "ename": "TypeError",
     "evalue": "list.count() takes exactly one argument (0 given)",
     "output_type": "error",
     "traceback": [
      "\u001b[1;31m---------------------------------------------------------------------------\u001b[0m",
      "\u001b[1;31mTypeError\u001b[0m                                 Traceback (most recent call last)",
      "\u001b[1;32m~\\AppData\\Local\\Temp/ipykernel_16704/923197485.py\u001b[0m in \u001b[0;36m<module>\u001b[1;34m\u001b[0m\n\u001b[1;32m----> 1\u001b[1;33m \u001b[0mlist1\u001b[0m\u001b[1;33m.\u001b[0m\u001b[0mcount\u001b[0m\u001b[1;33m(\u001b[0m\u001b[1;33m)\u001b[0m\u001b[1;33m\u001b[0m\u001b[1;33m\u001b[0m\u001b[0m\n\u001b[0m\u001b[0;32m      2\u001b[0m \u001b[0mlist1\u001b[0m\u001b[1;33m\u001b[0m\u001b[1;33m\u001b[0m\u001b[0m\n",
      "\u001b[1;31mTypeError\u001b[0m: list.count() takes exactly one argument (0 given)"
     ]
    }
   ],
   "source": [
    "list1.count()\n",
    "list1"
   ]
  },
  {
   "cell_type": "code",
   "execution_count": 107,
   "id": "e452e1a9",
   "metadata": {},
   "outputs": [
    {
     "data": {
      "text/plain": [
       "['khattak']"
      ]
     },
     "execution_count": 107,
     "metadata": {},
     "output_type": "execute_result"
    }
   ],
   "source": [
    "list1.count(7)\n",
    "list1"
   ]
  },
  {
   "cell_type": "code",
   "execution_count": 109,
   "id": "2fc03bf4",
   "metadata": {},
   "outputs": [
    {
     "data": {
      "text/plain": [
       "[36, 908, 76, 'hanif', 'khattak', 908, 'baba Ammar']"
      ]
     },
     "execution_count": 109,
     "metadata": {},
     "output_type": "execute_result"
    }
   ],
   "source": [
    "list2.count(4)\n",
    "list2"
   ]
  },
  {
   "cell_type": "code",
   "execution_count": 111,
   "id": "9bfd433f",
   "metadata": {},
   "outputs": [
    {
     "data": {
      "text/plain": [
       "1"
      ]
     },
     "execution_count": 111,
     "metadata": {},
     "output_type": "execute_result"
    }
   ],
   "source": [
    "####The count() method returns the number of elements with the desired value\n",
    "list2.count(\"hanif\")"
   ]
  },
  {
   "cell_type": "code",
   "execution_count": 112,
   "id": "9eb3047d",
   "metadata": {},
   "outputs": [
    {
     "data": {
      "text/plain": [
       "[28, 98, 76, 46, 98, 45]"
      ]
     },
     "execution_count": 112,
     "metadata": {},
     "output_type": "execute_result"
    }
   ],
   "source": [
    "list3 = [28,98,76,46,98,45]\n",
    "list3\n"
   ]
  },
  {
   "cell_type": "code",
   "execution_count": 113,
   "id": "385200a1",
   "metadata": {},
   "outputs": [
    {
     "data": {
      "text/plain": [
       "6"
      ]
     },
     "execution_count": 113,
     "metadata": {},
     "output_type": "execute_result"
    }
   ],
   "source": [
    "len(list3)"
   ]
  },
  {
   "cell_type": "code",
   "execution_count": 114,
   "id": "bd1bc86c",
   "metadata": {},
   "outputs": [
    {
     "data": {
      "text/plain": [
       "[28, 45, 46, 76, 98, 98]"
      ]
     },
     "execution_count": 114,
     "metadata": {},
     "output_type": "execute_result"
    }
   ],
   "source": [
    "list3.sort()\n",
    "list3"
   ]
  },
  {
   "cell_type": "code",
   "execution_count": 116,
   "id": "c2ea68d8",
   "metadata": {},
   "outputs": [
    {
     "data": {
      "text/plain": [
       "[28, 45, 46, 76, 98, 98, 28, 45, 46, 76, 98, 98]"
      ]
     },
     "execution_count": 116,
     "metadata": {},
     "output_type": "execute_result"
    }
   ],
   "source": [
    "list3*2"
   ]
  },
  {
   "cell_type": "code",
   "execution_count": 118,
   "id": "843dc113",
   "metadata": {},
   "outputs": [
    {
     "data": {
      "text/plain": [
       "[36, 908, 76, 'hanif', 'khattak', 908, 'baba Ammar', 28, 45, 46, 76, 98, 98]"
      ]
     },
     "execution_count": 118,
     "metadata": {},
     "output_type": "execute_result"
    }
   ],
   "source": [
    "lists = list2 +list3\n",
    "lists"
   ]
  },
  {
   "cell_type": "markdown",
   "id": "b6b2995d",
   "metadata": {},
   "source": [
    "##### Dictionaries\n",
    "\n",
    "- unordered collection of elements\n",
    "- key and value\n",
    "- curly brakets {   }\n",
    "- mutatable/change the value "
   ]
  },
  {
   "cell_type": "code",
   "execution_count": 120,
   "id": "e7d5eca0",
   "metadata": {},
   "outputs": [
    {
     "data": {
      "text/plain": [
       "{'chicken': 43, 'fish': 30, 'raita': 15, 'karipakora': 55}"
      ]
     },
     "execution_count": 120,
     "metadata": {},
     "output_type": "execute_result"
    }
   ],
   "source": [
    "##food and their prices\n",
    "d1 = {\"chicken\":43, \"fish\":30, \"raita\":15, \"karipakora\":55}\n",
    "d1"
   ]
  },
  {
   "cell_type": "code",
   "execution_count": 121,
   "id": "3f56864b",
   "metadata": {},
   "outputs": [
    {
     "data": {
      "text/plain": [
       "dict"
      ]
     },
     "execution_count": 121,
     "metadata": {},
     "output_type": "execute_result"
    }
   ],
   "source": [
    "type(d1)"
   ]
  },
  {
   "cell_type": "code",
   "execution_count": 125,
   "id": "7788d1c8",
   "metadata": {},
   "outputs": [
    {
     "data": {
      "text/plain": [
       "dict_keys(['chicken', 'fish', 'raita', 'karipakora'])"
      ]
     },
     "execution_count": 125,
     "metadata": {},
     "output_type": "execute_result"
    }
   ],
   "source": [
    "###extract data\n",
    "food1= d1.keys()\n",
    "food1"
   ]
  },
  {
   "cell_type": "code",
   "execution_count": 127,
   "id": "b068c434",
   "metadata": {},
   "outputs": [
    {
     "data": {
      "text/plain": [
       "dict_values([43, 30, 15, 55])"
      ]
     },
     "execution_count": 127,
     "metadata": {},
     "output_type": "execute_result"
    }
   ],
   "source": [
    "values1 = d1.values()\n",
    "values1"
   ]
  },
  {
   "cell_type": "code",
   "execution_count": 132,
   "id": "1800d91f",
   "metadata": {},
   "outputs": [
    {
     "data": {
      "text/plain": [
       "{'chicken': 43, 'fish': 30, 'raita': 15, 'karipakora': 55, 'Tikki': 10}"
      ]
     },
     "execution_count": 132,
     "metadata": {},
     "output_type": "execute_result"
    }
   ],
   "source": [
    "d1[\"Tikki\"]=10\n",
    "d1"
   ]
  },
  {
   "cell_type": "code",
   "execution_count": 133,
   "id": "838e3bbc",
   "metadata": {},
   "outputs": [
    {
     "data": {
      "text/plain": [
       "{'chicken': 43, 'fish': 30, 'raita': 15, 'karipakora': 55, 'Tikki': 18}"
      ]
     },
     "execution_count": 133,
     "metadata": {},
     "output_type": "execute_result"
    }
   ],
   "source": [
    "####update the value\n",
    "d1[\"Tikki\"]=18\n",
    "d1"
   ]
  },
  {
   "cell_type": "code",
   "execution_count": 135,
   "id": "d6a9550b",
   "metadata": {},
   "outputs": [
    {
     "data": {
      "text/plain": [
       "{'Dates': 27, 'choclates': 90, 'shiwayan': 1000}"
      ]
     },
     "execution_count": 135,
     "metadata": {},
     "output_type": "execute_result"
    }
   ],
   "source": [
    "d2={\"Dates\":27, \"choclates\":90, \"shiwayan\":1000}\n",
    "d2"
   ]
  },
  {
   "cell_type": "code",
   "execution_count": 137,
   "id": "597e2f8a",
   "metadata": {},
   "outputs": [],
   "source": [
    "d1.update(d2)"
   ]
  },
  {
   "cell_type": "code",
   "execution_count": 138,
   "id": "63bfcc22",
   "metadata": {},
   "outputs": [
    {
     "data": {
      "text/plain": [
       "{'chicken': 43,\n",
       " 'fish': 30,\n",
       " 'raita': 15,\n",
       " 'karipakora': 55,\n",
       " 'Tikki': 18,\n",
       " 'Dates': 27,\n",
       " 'choclates': 90,\n",
       " 'shiwayan': 1000}"
      ]
     },
     "execution_count": 138,
     "metadata": {},
     "output_type": "execute_result"
    }
   ],
   "source": [
    "d1"
   ]
  },
  {
   "cell_type": "markdown",
   "id": "9b83233f",
   "metadata": {},
   "source": [
    "---"
   ]
  },
  {
   "cell_type": "markdown",
   "id": "4beb6486",
   "metadata": {},
   "source": [
    "### sets\n",
    "\n",
    "- unordered and unindexed elements\n",
    "- curly brakets{  }\n",
    "- No duplicates allowed"
   ]
  },
  {
   "cell_type": "code",
   "execution_count": 139,
   "id": "ee8788cb",
   "metadata": {},
   "outputs": [
    {
     "data": {
      "text/plain": [
       "{7, 8.9, 98, False, 'hanif', 'khattak', 'kohat'}"
      ]
     },
     "execution_count": 139,
     "metadata": {},
     "output_type": "execute_result"
    }
   ],
   "source": [
    "s1 = {7,98,8.9,\"hanif\", \"khattak\",\"kohat\", False}\n",
    "s1"
   ]
  },
  {
   "cell_type": "code",
   "execution_count": 142,
   "id": "e6e4729a",
   "metadata": {},
   "outputs": [
    {
     "data": {
      "text/plain": [
       "{7, 8.9, 98, 'Danish', False, 'hanif', 'khattak', 'kohat'}"
      ]
     },
     "execution_count": 142,
     "metadata": {},
     "output_type": "execute_result"
    }
   ],
   "source": [
    "s1.add(\"Danish\")\n",
    "s1"
   ]
  },
  {
   "cell_type": "code",
   "execution_count": 143,
   "id": "4d06c3c6",
   "metadata": {},
   "outputs": [
    {
     "data": {
      "text/plain": [
       "{7, 8.9, 98, 'Danish', False, 'hanif', 'khattak', 'kohat'}"
      ]
     },
     "execution_count": 143,
     "metadata": {},
     "output_type": "execute_result"
    }
   ],
   "source": [
    "s1.add(\"hanif\")\n",
    "s1"
   ]
  },
  {
   "cell_type": "code",
   "execution_count": 145,
   "id": "febe12d5",
   "metadata": {},
   "outputs": [
    {
     "ename": "TypeError",
     "evalue": "set.clear() takes no arguments (1 given)",
     "output_type": "error",
     "traceback": [
      "\u001b[1;31m---------------------------------------------------------------------------\u001b[0m",
      "\u001b[1;31mTypeError\u001b[0m                                 Traceback (most recent call last)",
      "\u001b[1;32m~\\AppData\\Local\\Temp/ipykernel_16704/3871048795.py\u001b[0m in \u001b[0;36m<module>\u001b[1;34m\u001b[0m\n\u001b[1;32m----> 1\u001b[1;33m \u001b[0ms1\u001b[0m\u001b[1;33m.\u001b[0m\u001b[0mclear\u001b[0m\u001b[1;33m(\u001b[0m\u001b[1;34m\"hanif\"\u001b[0m\u001b[1;33m)\u001b[0m\u001b[1;33m\u001b[0m\u001b[1;33m\u001b[0m\u001b[0m\n\u001b[0m\u001b[0;32m      2\u001b[0m \u001b[0ms1\u001b[0m\u001b[1;33m\u001b[0m\u001b[1;33m\u001b[0m\u001b[0m\n",
      "\u001b[1;31mTypeError\u001b[0m: set.clear() takes no arguments (1 given)"
     ]
    }
   ],
   "source": [
    "s1.clear(\"hanif\")\n",
    "s1"
   ]
  },
  {
   "cell_type": "markdown",
   "id": "d9cfb767",
   "metadata": {},
   "source": [
    "# Method\tDescription\n",
    "- add()\tAdds an element to the set\n",
    "- clear()\tRemoves all the elements from the set\n",
    "- copy()\tReturns a copy of the set\n",
    "- difference()\tReturns a set containing the difference between two or more sets\n",
    "- difference_update()\tRemoves the items in this set that are also included in another, specified set\n",
    "- discard()\tRemove the specified item\n",
    "- intersection()\tReturns a set, that is the intersection of two or more sets\n",
    "- intersection_update()\tRemoves the items in this set that are not present in other, specified set(s)\n",
    "- isdisjoint()\tReturns whether two sets have a intersection or not\n",
    "- issubset()\tReturns whether another set contains this set or not\n",
    "- issuperset()\tReturns whether this set contains another set or not\n",
    "- pop()\tRemoves an element from the set\n",
    "- remove()\tRemoves the specified element\n",
    "- symmetric_difference()\tReturns a set with the symmetric differences of two sets\n",
    "- symmetric_difference_update()\tinserts the symmetric differences from this set and another\n",
    "- union()\tReturn a set containing the union of sets\n",
    "- update()\tUpdate the set with another set, or any other iterable"
   ]
  },
  {
   "cell_type": "code",
   "execution_count": 146,
   "id": "9424a482",
   "metadata": {},
   "outputs": [
    {
     "data": {
      "text/plain": [
       "set()"
      ]
     },
     "execution_count": 146,
     "metadata": {},
     "output_type": "execute_result"
    }
   ],
   "source": [
    "s1.clear()\n",
    "s1"
   ]
  },
  {
   "cell_type": "code",
   "execution_count": 147,
   "id": "99d65d64",
   "metadata": {},
   "outputs": [
    {
     "ename": "TypeError",
     "evalue": "set.copy() takes no arguments (1 given)",
     "output_type": "error",
     "traceback": [
      "\u001b[1;31m---------------------------------------------------------------------------\u001b[0m",
      "\u001b[1;31mTypeError\u001b[0m                                 Traceback (most recent call last)",
      "\u001b[1;32m~\\AppData\\Local\\Temp/ipykernel_16704/686083366.py\u001b[0m in \u001b[0;36m<module>\u001b[1;34m\u001b[0m\n\u001b[1;32m----> 1\u001b[1;33m \u001b[0ms1\u001b[0m\u001b[1;33m.\u001b[0m\u001b[0mcopy\u001b[0m\u001b[1;33m(\u001b[0m\u001b[1;34m\"hanif\"\u001b[0m\u001b[1;33m)\u001b[0m\u001b[1;33m\u001b[0m\u001b[1;33m\u001b[0m\u001b[0m\n\u001b[0m\u001b[0;32m      2\u001b[0m \u001b[0ms1\u001b[0m\u001b[1;33m\u001b[0m\u001b[1;33m\u001b[0m\u001b[0m\n",
      "\u001b[1;31mTypeError\u001b[0m: set.copy() takes no arguments (1 given)"
     ]
    }
   ],
   "source": [
    "s1.copy(\"hanif\")\n",
    "s1"
   ]
  },
  {
   "cell_type": "code",
   "execution_count": 151,
   "id": "c8303c6b",
   "metadata": {},
   "outputs": [
    {
     "ename": "TypeError",
     "evalue": "set.copy() takes no arguments (1 given)",
     "output_type": "error",
     "traceback": [
      "\u001b[1;31m---------------------------------------------------------------------------\u001b[0m",
      "\u001b[1;31mTypeError\u001b[0m                                 Traceback (most recent call last)",
      "\u001b[1;32m~\\AppData\\Local\\Temp/ipykernel_16704/2521076331.py\u001b[0m in \u001b[0;36m<module>\u001b[1;34m\u001b[0m\n\u001b[1;32m----> 1\u001b[1;33m \u001b[0ms1\u001b[0m\u001b[1;33m.\u001b[0m\u001b[0mcopy\u001b[0m\u001b[1;33m(\u001b[0m\u001b[1;34m\"tikki\"\u001b[0m\u001b[1;33m)\u001b[0m\u001b[1;33m\u001b[0m\u001b[1;33m\u001b[0m\u001b[0m\n\u001b[0m\u001b[0;32m      2\u001b[0m \u001b[0ms1\u001b[0m\u001b[1;33m\u001b[0m\u001b[1;33m\u001b[0m\u001b[0m\n",
      "\u001b[1;31mTypeError\u001b[0m: set.copy() takes no arguments (1 given)"
     ]
    }
   ],
   "source": [
    "s1.copy(\"tikki\")\n",
    "s1"
   ]
  },
  {
   "cell_type": "code",
   "execution_count": 149,
   "id": "238ade1d",
   "metadata": {},
   "outputs": [
    {
     "data": {
      "text/plain": [
       "set()"
      ]
     },
     "execution_count": 149,
     "metadata": {},
     "output_type": "execute_result"
    }
   ],
   "source": [
    "s1.difference(\"hanif\")\n",
    "s1"
   ]
  },
  {
   "cell_type": "code",
   "execution_count": 152,
   "id": "d457e3d3",
   "metadata": {},
   "outputs": [
    {
     "data": {
      "text/plain": [
       "set()"
      ]
     },
     "execution_count": 152,
     "metadata": {},
     "output_type": "execute_result"
    }
   ],
   "source": [
    "s1.discard(\"hanif\")\n",
    "s1"
   ]
  },
  {
   "cell_type": "code",
   "execution_count": 153,
   "id": "7a1bb7a8",
   "metadata": {},
   "outputs": [
    {
     "data": {
      "text/plain": [
       "{7, 8.9, 98, False, 'hanif', 'khattak', 'kohat'}"
      ]
     },
     "execution_count": 153,
     "metadata": {},
     "output_type": "execute_result"
    }
   ],
   "source": [
    "s1 = {7,98,8.9,\"hanif\", \"khattak\",\"kohat\", False}\n",
    "s1"
   ]
  },
  {
   "cell_type": "code",
   "execution_count": 154,
   "id": "daf87d31",
   "metadata": {},
   "outputs": [
    {
     "data": {
      "text/plain": [
       "{7, 8.9, 98, False, 'khattak', 'kohat'}"
      ]
     },
     "execution_count": 154,
     "metadata": {},
     "output_type": "execute_result"
    }
   ],
   "source": [
    "s1.discard(\"hanif\")\n",
    "s1"
   ]
  },
  {
   "cell_type": "code",
   "execution_count": 155,
   "id": "fbd82306",
   "metadata": {},
   "outputs": [
    {
     "ename": "KeyError",
     "evalue": "'False'",
     "output_type": "error",
     "traceback": [
      "\u001b[1;31m---------------------------------------------------------------------------\u001b[0m",
      "\u001b[1;31mKeyError\u001b[0m                                  Traceback (most recent call last)",
      "\u001b[1;32m~\\AppData\\Local\\Temp/ipykernel_16704/2184779928.py\u001b[0m in \u001b[0;36m<module>\u001b[1;34m\u001b[0m\n\u001b[1;32m----> 1\u001b[1;33m \u001b[0ms1\u001b[0m\u001b[1;33m.\u001b[0m\u001b[0mremove\u001b[0m\u001b[1;33m(\u001b[0m\u001b[1;34m\"False\"\u001b[0m\u001b[1;33m)\u001b[0m\u001b[1;33m\u001b[0m\u001b[1;33m\u001b[0m\u001b[0m\n\u001b[0m\u001b[0;32m      2\u001b[0m \u001b[0ms1\u001b[0m\u001b[1;33m\u001b[0m\u001b[1;33m\u001b[0m\u001b[0m\n",
      "\u001b[1;31mKeyError\u001b[0m: 'False'"
     ]
    }
   ],
   "source": [
    "s1.remove(\"False\")\n",
    "s1"
   ]
  },
  {
   "cell_type": "code",
   "execution_count": 156,
   "id": "a42d6d47",
   "metadata": {},
   "outputs": [
    {
     "data": {
      "text/plain": [
       "{7, 8.9, 98, False, 'kohat'}"
      ]
     },
     "execution_count": 156,
     "metadata": {},
     "output_type": "execute_result"
    }
   ],
   "source": [
    "s1.remove(\"khattak\")\n",
    "s1"
   ]
  },
  {
   "cell_type": "code",
   "execution_count": 157,
   "id": "a35031a5",
   "metadata": {},
   "outputs": [
    {
     "data": {
      "text/plain": [
       "{7, 8.9, 98, 'B', False, 'G', 'H', 'I', 'kohat'}"
      ]
     },
     "execution_count": 157,
     "metadata": {},
     "output_type": "execute_result"
    }
   ],
   "source": [
    "s1.update(\"GIBH\")\n",
    "s1"
   ]
  },
  {
   "cell_type": "code",
   "execution_count": 159,
   "id": "c975924b",
   "metadata": {},
   "outputs": [
    {
     "data": {
      "text/plain": [
       "{7, 8.9, 98, 'B', False, 'G', 'H', 'I', 'kohat'}"
      ]
     },
     "execution_count": 159,
     "metadata": {},
     "output_type": "execute_result"
    }
   ],
   "source": [
    "s1.symmetric_difference(\"hanif\")\n",
    "s1"
   ]
  }
 ],
 "metadata": {
  "kernelspec": {
   "display_name": "Python 3 (ipykernel)",
   "language": "python",
   "name": "python3"
  },
  "language_info": {
   "codemirror_mode": {
    "name": "ipython",
    "version": 3
   },
   "file_extension": ".py",
   "mimetype": "text/x-python",
   "name": "python",
   "nbconvert_exporter": "python",
   "pygments_lexer": "ipython3",
   "version": "3.9.7"
  }
 },
 "nbformat": 4,
 "nbformat_minor": 5
}
